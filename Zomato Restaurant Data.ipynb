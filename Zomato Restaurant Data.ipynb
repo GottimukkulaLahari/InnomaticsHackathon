#!/usr/bin/env python
# coding: utf-8

# In[1]:

import pandas as pd
import numpy as np

# In[9]:

df = pd.read_csv("zomato_data.csv")

# In[10]:

# Make a copy to preserve the original
zomato = df.copy()

# In[11]:

# Step 1: Clean the 'rate' column
def convert_rating(value):
    if isinstance(value, str) and '/' in value:
        try:
            return float(value.split('/')[0].strip())
        except ValueError:
            return np.nan
    return np.nan

zomato['rate'] = zomato['rate'].apply(convert_rating)


# In[12]:

# Step 2: Clean the 'approx_costfor_two_people' column
def clean_cost(value):
    if isinstance(value, str):
        value = value.replace(',', '').strip()
        return float(value) if value.isdigit() else np.nan
    return np.nan

zomato['approx_costfor_two_people'] = zomato['approx_costfor_two_people'].apply(clean_cost)

# In[14]:

# Step 3: Clean categorical columns
categorical_cols = ['online_order', 'book_table', 'rest_type', 'dish_liked', 'cuisines', 'listed_intype', 'listed_incity']
for col in categorical_cols:
    zomato[col] = zomato[col].astype(str).str.strip()
    zomato[col].replace('nan', np.nan, inplace=True)


# In[15]:

# Step 4: Check 'votes' column
zomato = zomato[zomato['votes'] >= 0]

# In[16]:

# Step 5: Binary encode 'online_order' and 'book_table'
binary_map = {'Yes': 1, 'No': 0}
zomato['online_order'] = zomato['online_order'].map(binary_map)
zomato['book_table'] = zomato['book_table'].map(binary_map)

# In[17]:

# Step 6: Convert data types for consistency
zomato['rate'] = zomato['rate'].astype(float)
zomato['approx_costfor_two_people'] = zomato['approx_costfor_two_people'].astype(float)
zomato['votes'] = zomato['votes'].astype(int)

# Preview the cleaned data
print(zomato.info())
print(zomato.head())
