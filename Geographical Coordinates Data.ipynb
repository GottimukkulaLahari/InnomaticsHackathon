#!/usr/bin/env python
# coding: utf-8

# In[1]:


import pandas as pd
import numpy as np


# In[2]:


# Load dataset
geo_df = pd.read_csv("Geographical Coordinates.csv")


# In[3]:


# Step 1: Clean 'Latitude' column (already float, check for invalids)
geo_df['Latitude'] = pd.to_numeric(geo_df['Latitude'], errors='coerce')


# In[4]:


# Step 2: Clean 'Longitude' column (already float, check for invalids)
geo_df['Longitude'] = pd.to_numeric(geo_df['Longitude'], errors='coerce')


# In[5]:


# Step 3: Clean the 'listed_incity' column (remove extra spaces and make uniform)
geo_df['listed_incity'] = geo_df['listed_incity'].astype(str).str.strip().str.title()


# In[6]:


# Step 4: Check for missing or duplicate values
geo_df.drop_duplicates(subset='listed_incity', inplace=True)
geo_df.dropna(subset=['Latitude', 'Longitude'], inplace=True)


# In[7]:


# Step 5: Convert all column types explicitly
geo_df['listed_incity'] = geo_df['listed_incity'].astype(str)
geo_df['Latitude'] = geo_df['Latitude'].astype(float)
geo_df['Longitude'] = geo_df['Longitude'].astype(float)


# In[8]:


# Step 6: Ensure city names are unique and consistent
geo_df = geo_df.reset_index(drop=True)

# Final check
print(geo_df.info())
print(geo_df.head())
